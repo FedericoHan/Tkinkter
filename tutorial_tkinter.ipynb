{
 "cells": [
  {
   "cell_type": "code",
   "execution_count": 1,
   "metadata": {
    "collapsed": true
   },
   "outputs": [],
   "source": [
    "#https://pythonprogramming.net/change-show-new-frame-tkinter/\n",
    "import tkinter as tk #lower case in Py3\n",
    "from tkinter import ttk #kinda like CSS for tkinter\n",
    "#get more rounded buttons isntead of ugly square ones (post 2000 look). change all buttons"
   ]
  },
  {
   "cell_type": "code",
   "execution_count": 2,
   "metadata": {
    "collapsed": true
   },
   "outputs": [],
   "source": [
    "import matplotlib \n",
    "from matplotlib import style"
   ]
  },
  {
   "cell_type": "code",
   "execution_count": 3,
   "metadata": {
    "collapsed": true
   },
   "outputs": [],
   "source": [
    "matplotlib.use('TkAgg')"
   ]
  },
  {
   "cell_type": "code",
   "execution_count": 4,
   "metadata": {
    "collapsed": true
   },
   "outputs": [],
   "source": [
    "from matplotlib.backends.backend_tkagg import FigureCanvasTkAgg, NavigationToolbar2TkAgg\n",
    "#figure canvas allows you graph on canvas\n",
    "#toolbar allows zooming etc\n",
    "from matplotlib.figure import Figure\n",
    "#below to redraw graph every xseconds\n",
    "import matplotlib.animation as animation\n",
    "from matplotlib import style #available styles C:\\Users\\miste\\Anaconda3\\Lib\\site-packages\\matplotlib\\mpl-data\\stylelib\n"
   ]
  },
  {
   "cell_type": "code",
   "execution_count": 5,
   "metadata": {
    "collapsed": true
   },
   "outputs": [],
   "source": [
    "#Tkinter page8\n",
    "import urllib\n",
    "import json\n",
    "import pandas as pd\n",
    "import numpy as np"
   ]
  },
  {
   "cell_type": "code",
   "execution_count": 40,
   "metadata": {
    "collapsed": true
   },
   "outputs": [],
   "source": [
    "from matplotlib import pyplot as plt"
   ]
  },
  {
   "cell_type": "code",
   "execution_count": null,
   "metadata": {},
   "outputs": [],
   "source": [
    "LARGE_FONT = (\"Verdana\", 12) #size `12\n",
    "NORM_FONT = (\"Verdana\", 10)\n",
    "SMALL_FONT = (\"Verdana\", 8)\n",
    "\n",
    "style.use(\"ggplot\")  #changes from ugly blue to nicer red\n",
    "##available styles C:\\Users\\miste\\Anaconda3\\Lib\\site-packages\\matplotlib\\mpl-data\\stylelib\n",
    "\n",
    "\n",
    "f = Figure(figsize = (5,5), dpi = 100)\n",
    "a = f.add_subplot(111) #111 means only one chart\n",
    "\n",
    "\n",
    "def popupmsg(msg): #mini instance of tkinter\n",
    "    popup = tk.TK()\n",
    "    \n",
    "    \n",
    "    popup.wm_title('!')\n",
    "    label = ttk.Label(popup, text = msg, font = NORM_FONT)\n",
    "    label.pack(side = \"top\", fill = 'x', pady = 10) #pads top and bottom, x would be edges\n",
    "    B1 = ttk.Button(popup, text = 'Oka', command = leavemini) #not defined yet\n",
    "    B1.pack()\n",
    "    popup.mainloop()\n",
    "    \n",
    "    \n",
    "    \n",
    "    \n",
    "#def animate(): TypeError: animate() takes 0 positional arguments but 1 was given\n",
    "def animate(i):\n",
    "    \n",
    "    '''#soon pull as json data instead of files\n",
    "    #important: file below needs to be on same directory as script,search for this notebook on drive \n",
    "    pullData = open('sampleData.txt',\"r\").read() #open with intention to read = 'r'\n",
    "    dataList = pullData.split('\\n') #by new line\n",
    "    xList = []\n",
    "    yList = []\n",
    "    for eachLine in dataList:\n",
    "        if len(eachLine)> 1: #skips empty ones\n",
    "            x, y = eachLine.split(',')\n",
    "            xList.append(int(x))\n",
    "            yList.append(int(y))\n",
    "    a.clear() #gets rid of everything on subplot so it deosnt get messy, take up more RAM etc\n",
    "    a.plot(xList, yList)  '''\n",
    "    \n",
    "    #dataLink = 'https://btc-e.com/api/3/trades/btc_usd?limit = 2000'#was json format, unit time stamp at end\n",
    "    dataLink = 'https://api.bitfinex.com/v1/trades/BTCUSD?limit_trades=2000' #? adds parameter\n",
    "    #\"timestamp\":1511872455,\"tid\":102324136,\"price\":\"9910.4\",\"amount\":\"0.6\",\"exchange\":\"bitfinex\",\"type\":\"sell\"}\n",
    "    \n",
    "    data = urllib.request.urlopen(dataLink)  \n",
    "    #decode bytes to strings\n",
    "    \n",
    "    data = data.read().decode('utf-8') #data = data.readall().decode(\"utf-8\")  AttributeError: 'HTTPResponse' object has no attribute 'readall'\n",
    "    pd.options.mode.chained_assignment = None\n",
    "    \n",
    "    #now load json string\n",
    "    data = json.loads(data) #data = data['btc_usd'] #TypeError: list indices must be integers or slices, not str\n",
    "    #now crunch the 2000 rows with pandas\n",
    "    data = pd.DataFrame(data)\n",
    "    data.head()\n",
    "    \n",
    "    buys = data[(data['type']=='buy')]#buys = data[(data['type']=='bid')]  #dataframe too\n",
    "    #convert unix time stamp -matplotlib doesnt recognize it, using nupy\n",
    "    buys['datestamp'] = np.array(buys['timestamp']).astype('datetime64[s]') #add column\n",
    "    buyDates = (buys['datestamp']).tolist() #list of converted numpy timestamps..the x's\n",
    "    \n",
    "    sells = data[(data['type'])=='sell']\n",
    "    sells['datestamp'] = np.array(sells['timestamp']).astype('datetime64[s]') #add column\n",
    "    sellDates = (sells['datestamp']).tolist()\n",
    "    \n",
    "    a.clear()\n",
    "    \n",
    "    a.plot_date(buyDates, buys['price'], 'b', label = 'buy') #x's and y's\n",
    "    a.plot_date(sellDates, sells['price'], 'r', label = 'sell')\n",
    "    \n",
    "    a.legend(bbox_to_anchor = (0, 1.02, 1, .102), loc = 3, ncol = 2, \n",
    "             borderaxespad = 0) #check matplotlib tutorial for description\n",
    "    title = 'BTCUSD Prices'#\\nLast Price: '+str(data[\"price\"][1999])\n",
    "    a.set_title(title)\n",
    "    \n"
   ]
  },
  {
   "cell_type": "code",
   "execution_count": null,
   "metadata": {},
   "outputs": [],
   "source": [
    "class SeaofBTCapp(tk.Tk): #inheritenign from tk class\n",
    "    \n",
    "    def __init__(self, *args, **kwargs):  #arguments are anything, keyword arguments are dictionaries\n",
    "    \n",
    "        tk.Tk.__init__(self, *args, **kwargs)  #init tk too\n",
    "        #this applicaiton is a container that we will populate\n",
    "        \n",
    "        #tk.Tk.iconbitmap(self, defaut = 'clientapp.ico')#change icon\n",
    "        tk.Tk.wm_title(self, 'SeaOfTBTCApp') #change wintodw title\n",
    "        \n",
    "        container = tk.Frame(self) #frame is a part of tk, it's a 'window'\n",
    "        #tk gives 2 options: pack stuff in or grid\n",
    "        \n",
    "        container.pack(side=\"top\", fill = \"both\", expand = True) #fill will fill space , expand will exp beyond space in window\n",
    "        container.grid_rowconfigure(0, weight = 1) #0 sets min size, weight gives 'priority'\n",
    "        container.grid_columnconfigure(0, weight = 1)\n",
    "        \n",
    "        menubar = tk.Menu(container) #menu inside container\n",
    "        filemenu = tk.Menu(menubar, tearoff = 0) #tearoff allows File, Edit to become their own little windows, for upcoming Trading option\n",
    "        filemenu.add_command(label = 'Save settings', \n",
    "                             command = lambda: popupmsg('not supported yet!'))#adds option to menu, eventually save api info which needs encrypt/decrypt\n",
    "        \n",
    "        filemenu.add_separator() #adds a divider between options\n",
    "        filemenu.add_command(label = 'Exit', command = quit)\n",
    "        menubar.add_cascade(label = 'File', menu  = filemenu)\n",
    "        \n",
    "        tk.Tk.config(self, menu = menubar)\n",
    "        \n",
    "        self.frames = {} #empty dict\n",
    "        \n",
    "        #frame = StartPage(container, self) #doesnt exist yet but define soon\n",
    "        #self.frames[StartPage] = frame\n",
    "    \n",
    "        #need this so that pages show up\n",
    "        for F in (StartPage, BTCe_Page): #pass tuple of pages\n",
    "            \n",
    "            #wrong:  frame = StartPage(container, self)\n",
    "            frame = F(container, self)\n",
    "            \n",
    "            self.frames[F] = frame\n",
    "            \n",
    "            frame.grid(row= 0, column = 0, sticky = \"nsew\") #why grid is superior to pack: assigns some frame to grid, north south east west stretch evverythign\n",
    "        \n",
    "        self.show_frame(StartPage) #doesnt esxist yet eitehr\n",
    "        \n",
    "    def show_frame(self, cont): #controller\n",
    "        \n",
    "        frame = self.frames[cont]  #key \n",
    "        frame.tkraise() #raises to front,  inherited this method from tk above\n",
    "        \n",
    "#def qf():\n",
    "   # print('example function for button below')\n",
    "    \n",
    "######################\n",
    "#these 2 following classes should look nearly identitcal, just diff buttons\n",
    "\n",
    "class StartPage(tk.Frame):  #inherit all stuff from frame\n",
    "    \n",
    "    def __init__(self, parent, controller):\n",
    "        tk.Frame.__init__(self, parent) #parent class is seaofbtcapp\n",
    "    \n",
    "        label = tk.Label(self, text = \"Alpha Bitcon trading app\", font = LARGE_FONT) #return object to label, now do smeothign to it\n",
    "        label.pack(pady = 10, padx = 10) #pads top and bottom\n",
    "        \n",
    "        #all buttons changed from tk.Button to ttk.Button for style\n",
    "        button1 = ttk.Button(self, text = \"Agree\", \n",
    "                           command = lambda: controller.show_frame(BTCe_Page)) #button object returned from tk.Button()..qf is defined above\n",
    "        button1.pack()\n",
    "        \n",
    "        \n",
    "        button2 = ttk.Button(self, text = \"Disagree\", \n",
    "                            command = quit) #button object returned from tk.Button()..qf is defined above\n",
    "        button2.pack()\n",
    "\n",
    "\n",
    "\n",
    "        \n",
    "########################   \n",
    "\n",
    "class BTCe_Page(tk.Frame): #graph page. need to add canvas and then graph\n",
    "    \n",
    "    def __init__(self, parent, controller):\n",
    "        \n",
    "        tk.Frame.__init__(self, parent)\n",
    "        \n",
    "        label = tk.Label(self, text = \"Graph Page\", font = LARGE_FONT) #return object to label, now do smeothign to it\n",
    "        label.pack(pady = 10, padx = 10) #pads top and bottom\n",
    "        \n",
    "        button1 = ttk.Button(self, text = \"Back to Home\", \n",
    "                            command = lambda: controller.show_frame(StartPage)) #button object returned from tk.Button()..qf is defined above\n",
    "        button1.pack()\n",
    "                            \n",
    "\n",
    "        ########graph beneath \n",
    "        #f = Figure(figsize = (5,5), dpi = 100)\n",
    "        #a = f.add_subplot(111) #111 means only one chart\n",
    "        #a.plot([1,2,3,4,5], [5,6, 1, 3, 4]) #x list and y list..this is now in backgrou. need to bring in front\n",
    "        \n",
    "        #this brings graph from back to front\n",
    "        canvas = FigureCanvasTkAgg(f, self)\n",
    "        canvas.show()\n",
    "        canvas.get_tk_widget().pack(side = tk.TOP, fill = tk.BOTH, expand = True) #packing canvas into tkinger\n",
    "        #above has no navigation bar..so\n",
    "        toolbar = NavigationToolbar2TkAgg(canvas, self)\n",
    "        toolbar.update()\n",
    "        canvas._tkcanvas.pack(side = tk.TOP, fill = tk.BOTH, expand = True)\n",
    "        \n",
    "        \n",
    "app = SeaofBTCapp()\n",
    "app.geometry('1280x720') #or 800x600 unless u are on a phone lol\n",
    "ani = animation.FuncAnimation(f,animate, interval = 5000)#f is figure, anim, interval in millseconds..5 to slow it down a bit\n",
    "app.mainloop()"
   ]
  },
  {
   "cell_type": "code",
   "execution_count": 39,
   "metadata": {
    "collapsed": true
   },
   "outputs": [],
   "source": [
    "?animation.FuncAnimation"
   ]
  },
  {
   "cell_type": "code",
   "execution_count": 15,
   "metadata": {
    "collapsed": true
   },
   "outputs": [],
   "source": [
    "import sys"
   ]
  },
  {
   "cell_type": "code",
   "execution_count": 16,
   "metadata": {},
   "outputs": [
    {
     "data": {
      "text/plain": [
       "['',\n",
       " 'C:\\\\Users\\\\miste\\\\Anaconda3\\\\python36.zip',\n",
       " 'C:\\\\Users\\\\miste\\\\Anaconda3\\\\DLLs',\n",
       " 'C:\\\\Users\\\\miste\\\\Anaconda3\\\\lib',\n",
       " 'C:\\\\Users\\\\miste\\\\Anaconda3',\n",
       " 'C:\\\\Users\\\\miste\\\\Anaconda3\\\\lib\\\\site-packages',\n",
       " 'C:\\\\Users\\\\miste\\\\Anaconda3\\\\lib\\\\site-packages\\\\Sphinx-1.5.6-py3.6.egg',\n",
       " 'C:\\\\Users\\\\miste\\\\Anaconda3\\\\lib\\\\site-packages\\\\win32',\n",
       " 'C:\\\\Users\\\\miste\\\\Anaconda3\\\\lib\\\\site-packages\\\\win32\\\\lib',\n",
       " 'C:\\\\Users\\\\miste\\\\Anaconda3\\\\lib\\\\site-packages\\\\Pythonwin',\n",
       " 'C:\\\\Users\\\\miste\\\\Anaconda3\\\\lib\\\\site-packages\\\\setuptools-27.2.0-py3.6.egg',\n",
       " 'C:\\\\Users\\\\miste\\\\Anaconda3\\\\lib\\\\site-packages\\\\IPython\\\\extensions',\n",
       " 'C:\\\\Users\\\\miste\\\\.ipython']"
      ]
     },
     "execution_count": 16,
     "metadata": {},
     "output_type": "execute_result"
    }
   ],
   "source": [
    "sys.path"
   ]
  },
  {
   "cell_type": "code",
   "execution_count": 60,
   "metadata": {
    "collapsed": true
   },
   "outputs": [],
   "source": [
    "# ING hedging\n",
    "class INGHedging(tk.Tk): #inheritenign from tk class\n",
    "    \n",
    "    def __init__(self, *args, **kwargs):  #arguments are anything, keyword arguments are dictionaries\n",
    "    \n",
    "        tk.Tk.__init__(self, *args, **kwargs)  #init tk too\n",
    "        #this applicaiton is a container that we will populate\n",
    "        \n",
    "        #tk.Tk.iconbitmap(self, defaut = 'clientapp.ico')#change icon\n",
    "        tk.Tk.wm_title(self, 's') #change wintodw title\n",
    "        \n",
    "        container = tk.Frame(self) #frame is a part of tk, it's a 'window'\n",
    "        #tk gives 2 options: pack stuff in or grid\n",
    "        container.pack(side=\"top\", fill = \"both\", expand = True) #fill will fill space , expand will exp beyond space in window\n",
    "        container.grid_rowconfigure(0, weight = 1) #0 sets min size, weight gives 'priority'\n",
    "        container.grid_columnconfigure(0, weight = 1)\n",
    "        \n",
    "        self.frames = {} #empty dict\n",
    "        \n",
    "        #frame = StartPage(container, self) #doesnt exist yet but define soon\n",
    "        #self.frames[StartPage] = frame\n",
    "    \n",
    "        #need this so that pages show up\n",
    "        for F in (StartPage, PageOne, PageTwo, PageThree): #pass tuple of pages\n",
    "            \n",
    "            #wrong:  frame = StartPage(container, self)\n",
    "            frame = F(container, self)\n",
    "            \n",
    "            self.frames[F] = frame\n",
    "            \n",
    "            frame.grid(row= 0, column = 0, sticky = \"nsew\") #why grid is superior to pack: assigns some frame to grid, north south east west stretch evverythign\n",
    "        \n",
    "        self.show_frame(StartPage) #doesnt esxist yet eitehr\n",
    "        \n",
    "    def show_frame(self, cont): #controller\n",
    "        \n",
    "        frame = self.frames[cont]  #key \n",
    "        frame.tkraise() #raises to front,  inherited this method from tk above\n",
    "        \n",
    "#def qf():\n",
    "   # print('example function for button below')\n",
    "    \n",
    "######################\n",
    "#these 2 following classes should look nearly identitcal, just diff buttons\n",
    "class StartPage(tk.Frame):  #inherit all stuff from frame\n",
    "    \n",
    "    def __init__(self, parent, controller):\n",
    "        tk.Frame.__init__(self, parent) #parent class is seaofbtcapp\n",
    "    \n",
    "        label = tk.Label(self, text = \"ING Hedging Strategies\", font = LARGE_FONT) #return object to label, now do smeothign to it\n",
    "        label.pack(pady = 10, padx = 10) #pads top and bottom\n",
    "        \n",
    "        #all buttons changed from tk.Button to ttk.Button for style\n",
    "        button = ttk.Button(self, text = \"Cylinder\", \n",
    "                           command = lambda: controller.show_frame(PageOne)) #button object returned from tk.Button()..qf is defined above\n",
    "        button.pack()\n",
    "        \n",
    "        button1 = ttk.Button(self, text = \"Participating Forward\", \n",
    "                            command = lambda: controller.show_frame(PageTwo)) #button object returned from tk.Button()..qf is defined above\n",
    "        button1.pack()\n",
    "        \n",
    "        button2 = ttk.Button(self, text = \"Forward Extra\", \n",
    "                            command = lambda: controller.show_frame(PageThree)) #button object returned from tk.Button()..qf is defined above\n",
    "        button2.pack()\n",
    "        \n",
    "        button3 = ttk.Button(self, text = \"Graph Page_Inverse Forward Extra\", \n",
    "                            command = lambda: controller.show_frame(PageThree)) #button object returned from tk.Button()..qf is defined above\n",
    "        button3.pack()\n",
    "        \n",
    "        \n",
    "        \n",
    "        \n",
    "        \n",
    "########################        \n",
    "class PageOne(tk.Frame): #creating page one above, inheriting from tk.Frame\n",
    "    \n",
    "    def __init__(self, parent, controller):\n",
    "        tk.Frame.__init__(self, parent)\n",
    "        label = tk.Label(self, text = \"Cylinder\", font = LARGE_FONT) #return object to label, now do smeothign to it\n",
    "        label.pack(pady = 10, padx = 10) #pads top and bottom\n",
    "        \n",
    "        button1 = ttk.Button(self, text = \"Back to Home\", \n",
    "                            command = lambda: controller.show_frame(StartPage)) #button object returned from tk.Button()..qf is defined above\n",
    "        button1.pack()\n",
    "        \n",
    "        button2 = ttk.Button(self, text = \"Page 2\", \n",
    "                            command = lambda: controller.show_frame(PageTwo)) #button object returned from tk.Button()..qf is defined above\n",
    "        #button1.pack()\n",
    "        button2.pack()\n",
    "        \n",
    "        button3 = ttk.Button(self, text = \"Page 3\", \n",
    "                            command = lambda: controller.show_frame(PageTwo)) #button object returned from tk.Button()..qf is defined above\n",
    "        button3.pack()\n",
    "                   \n",
    "########################   \n",
    "\n",
    "class PageTwo(tk.Frame):\n",
    "    \n",
    "    def __init__(self, parent, controller):\n",
    "        \n",
    "        tk.Frame.__init__(self, parent)\n",
    "        \n",
    "        label = tk.Label(self, text = \"Participating Forward\", font = LARGE_FONT) #return object to label, now do smeothign to it\n",
    "        label.pack(pady = 10, padx = 10) #pads top and bottom\n",
    "        \n",
    "        button1 = ttk.Button(self, text = \"Back to Home\", \n",
    "                            command = lambda: controller.show_frame(StartPage)) #button object returned from tk.Button()..qf is defined above\n",
    "        button1.pack()\n",
    "                            \n",
    "        button2 = ttk.Button(self, text = \"Page One\", \n",
    "                            command = lambda: controller.show_frame(PageOne)) #button object returned from tk.Button()..qf is defined above\n",
    "        button2.pack()\n",
    "        \n",
    "########################   \n",
    "\n",
    "class PageThree(tk.Frame): #graph page. need to add canvas and then graph\n",
    "    \n",
    "    def __init__(self, parent, controller):\n",
    "        \n",
    "        tk.Frame.__init__(self, parent)\n",
    "        \n",
    "        label = tk.Label(self, text = \"Forward Extra\", font = LARGE_FONT) #return object to label, now do smeothign to it\n",
    "        label.pack(pady = 10, padx = 10) #pads top and bottom\n",
    "        \n",
    "        button1 = ttk.Button(self, text = \"Back to Home\", \n",
    "                            command = lambda: controller.show_frame(StartPage)) #button object returned from tk.Button()..qf is defined above\n",
    "        button1.pack()\n",
    "                            \n",
    "        button2 = ttk.Button(self, text = \"Page One\", \n",
    "                            command = lambda: controller.show_frame(PageOne)) #button object returned from tk.Button()..qf is defined above\n",
    "        button2.pack()\n",
    "        ########graph beneath \n",
    "        #f = Figure(figsize = (5,5), dpi = 100)\n",
    "        #a = f.add_subplot(111) #111 means only one chart\n",
    "        #a.plot([1,2,3,4,5], [5,6, 1, 3, 4]) #x list and y list..this is now in backgrou. need to bring in front\n",
    "        \n",
    "        #this brings graph from back to front\n",
    "        canvas = FigureCanvasTkAgg(f, self)\n",
    "        canvas.show()\n",
    "        canvas.get_tk_widget().pack(side = tk.TOP, fill = tk.BOTH, expand = True) #packing canvas into tkinger\n",
    "        #above has no navigation bar..so\n",
    "        toolbar = NavigationToolbar2TkAgg(canvas, self)\n",
    "        toolbar.update()\n",
    "        canvas._tkcanvas.pack(side = tk.TOP, fill = tk.BOTH, expand = True)\n",
    "        \n",
    "        \n",
    "app = INGHedging()\n",
    "ani = animation.FuncAnimation(f,animate, interval = 1000)#f is figure, anim, interval in millseconds\n",
    "app.mainloop()"
   ]
  },
  {
   "cell_type": "code",
   "execution_count": 54,
   "metadata": {},
   "outputs": [
    {
     "name": "stdout",
     "output_type": "stream",
     "text": [
      "[20000, 40000, 60000, 80000]\n"
     ]
    }
   ],
   "source": [
    "salaryRange = []\n",
    "salaryStart = 20000\n",
    "for i in range(1,5):\n",
    "\n",
    "    salaryRange.append(salaryStart*i)\n",
    "print(salaryRange)"
   ]
  },
  {
   "cell_type": "code",
   "execution_count": 55,
   "metadata": {},
   "outputs": [
    {
     "name": "stdout",
     "output_type": "stream",
     "text": [
      "28000000\n",
      "56000000\n",
      "84000000\n",
      "112000000\n"
     ]
    }
   ],
   "source": [
    "workers = 1400\n",
    "for salary in salaryRange:\n",
    "    print(workers * salary) "
   ]
  },
  {
   "cell_type": "code",
   "execution_count": 56,
   "metadata": {},
   "outputs": [
    {
     "data": {
      "text/plain": [
       "150"
      ]
     },
     "execution_count": 56,
     "metadata": {},
     "output_type": "execute_result"
    }
   ],
   "source": [
    "50 *3"
   ]
  },
  {
   "cell_type": "code",
   "execution_count": null,
   "metadata": {
    "collapsed": true
   },
   "outputs": [],
   "source": []
  }
 ],
 "metadata": {
  "kernelspec": {
   "display_name": "Python 3",
   "language": "python",
   "name": "python3"
  },
  "language_info": {
   "codemirror_mode": {
    "name": "ipython",
    "version": 3
   },
   "file_extension": ".py",
   "mimetype": "text/x-python",
   "name": "python",
   "nbconvert_exporter": "python",
   "pygments_lexer": "ipython3",
   "version": "3.6.1"
  }
 },
 "nbformat": 4,
 "nbformat_minor": 1
}
